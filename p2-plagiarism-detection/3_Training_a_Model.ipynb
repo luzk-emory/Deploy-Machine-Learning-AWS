{
 "cells": [
  {
   "cell_type": "markdown",
   "metadata": {},
   "source": [
    "# Plagiarism Detection Model\n",
    "\n",
    "Now that you've created training and test data, you are ready to define and train a model. Your goal in this notebook, will be to train a binary classification model that learns to label an answer file as either plagiarized or not, based on the features you provide the model.\n",
    "\n",
    "This task will be broken down into a few discrete steps:\n",
    "\n",
    "* Upload your data to S3.\n",
    "* Define a binary classification model and a training script.\n",
    "* Train your model and deploy it.\n",
    "* Evaluate your deployed classifier and answer some questions about your approach.\n",
    "\n",
    "To complete this notebook, you'll have to complete all given exercises and answer all the questions in this notebook.\n",
    "> All your tasks will be clearly labeled **EXERCISE** and questions as **QUESTION**.\n",
    "\n",
    "It will be up to you to explore different classification models and decide on a model that gives you the best performance for this dataset.\n",
    "\n",
    "---"
   ]
  },
  {
   "cell_type": "markdown",
   "metadata": {},
   "source": [
    "## Load Data to S3\n",
    "\n",
    "In the last notebook, you should have created two files: a `training.csv` and `test.csv` file with the features and class labels for the given corpus of plagiarized/non-plagiarized text data. \n",
    "\n",
    ">The below cells load in some AWS SageMaker libraries and creates a default bucket. After creating this bucket, you can upload your locally stored data to S3.\n",
    "\n",
    "Save your train and test `.csv` feature files, locally. To do this you can run the second notebook \"2_Plagiarism_Feature_Engineering\" in SageMaker or you can manually upload your files to this notebook using the upload icon in Jupyter Lab. Then you can upload local files to S3 by using `sagemaker_session.upload_data` and pointing directly to where the training data is saved."
   ]
  },
  {
   "cell_type": "code",
   "execution_count": 1,
   "metadata": {},
   "outputs": [],
   "source": [
    "import pandas as pd\n",
    "import boto3\n",
    "import sagemaker"
   ]
  },
  {
   "cell_type": "code",
   "execution_count": 2,
   "metadata": {},
   "outputs": [],
   "source": [
    "\"\"\"\n",
    "DON'T MODIFY ANYTHING IN THIS CELL THAT IS BELOW THIS LINE\n",
    "\"\"\"\n",
    "# session and role\n",
    "sagemaker_session = sagemaker.Session()\n",
    "role = sagemaker.get_execution_role()\n",
    "\n",
    "# create an S3 bucket\n",
    "bucket = sagemaker_session.default_bucket()"
   ]
  },
  {
   "cell_type": "markdown",
   "metadata": {},
   "source": [
    "## EXERCISE: Upload your training data to S3\n",
    "\n",
    "Specify the `data_dir` where you've saved your `train.csv` file. Decide on a descriptive `prefix` that defines where your data will be uploaded in the default S3 bucket. Finally, create a pointer to your training data by calling `sagemaker_session.upload_data` and passing in the required parameters. It may help to look at the [Session documentation](https://sagemaker.readthedocs.io/en/stable/session.html#sagemaker.session.Session.upload_data) or previous SageMaker code examples.\n",
    "\n",
    "You are expected to upload your entire directory. Later, the training script will only access the `train.csv` file."
   ]
  },
  {
   "cell_type": "code",
   "execution_count": 3,
   "metadata": {},
   "outputs": [],
   "source": [
    "# should be the name of directory you created to save your features data\n",
    "data_dir = 'plagiarism_data'\n",
    "\n",
    "# set prefix, a descriptive name for a directory  \n",
    "prefix = 'plagiarism_project'\n",
    "\n",
    "# upload all data to S3\n",
    "input_data = sagemaker_session.upload_data(path=data_dir, bucket=bucket, key_prefix=prefix)"
   ]
  },
  {
   "cell_type": "markdown",
   "metadata": {},
   "source": [
    "### Test cell\n",
    "\n",
    "Test that your data has been successfully uploaded. The below cell prints out the items in your S3 bucket and will throw an error if it is empty. You should see the contents of your `data_dir` and perhaps some checkpoints. If you see any other files listed, then you may have some old model files that you can delete via the S3 console (though, additional files shouldn't affect the performance of model developed in this notebook)."
   ]
  },
  {
   "cell_type": "code",
   "execution_count": 4,
   "metadata": {
    "scrolled": false
   },
   "outputs": [
    {
     "name": "stdout",
     "output_type": "stream",
     "text": [
      "counties/kmeans-2021-03-21-01-19-21-732/output/model.tar.gz\n",
      "counties/kmeans-2021-03-21-01-19-21-732/profiler-output/framework/training_job_end.ts\n",
      "counties/kmeans-2021-03-21-01-19-21-732/profiler-output/system/incremental/2021032101/1616289660.algo-1.json\n",
      "counties/kmeans-2021-03-21-01-19-21-732/profiler-output/system/incremental/2021032101/1616289720.algo-1.json\n",
      "counties/kmeans-2021-03-21-01-19-21-732/profiler-output/system/training_job_end.ts\n",
      "counties/kmeans-2021-03-21-01-19-21-732/rule-output/ProfilerReport-1616289561/profiler-output/profiler-report.html\n",
      "counties/kmeans-2021-03-21-01-19-21-732/rule-output/ProfilerReport-1616289561/profiler-output/profiler-report.ipynb\n",
      "counties/kmeans-2021-03-21-01-19-21-732/rule-output/ProfilerReport-1616289561/profiler-output/profiler-reports/BatchSize.json\n",
      "counties/kmeans-2021-03-21-01-19-21-732/rule-output/ProfilerReport-1616289561/profiler-output/profiler-reports/CPUBottleneck.json\n",
      "counties/kmeans-2021-03-21-01-19-21-732/rule-output/ProfilerReport-1616289561/profiler-output/profiler-reports/Dataloader.json\n",
      "counties/kmeans-2021-03-21-01-19-21-732/rule-output/ProfilerReport-1616289561/profiler-output/profiler-reports/GPUMemoryIncrease.json\n",
      "counties/kmeans-2021-03-21-01-19-21-732/rule-output/ProfilerReport-1616289561/profiler-output/profiler-reports/IOBottleneck.json\n",
      "counties/kmeans-2021-03-21-01-19-21-732/rule-output/ProfilerReport-1616289561/profiler-output/profiler-reports/LoadBalancing.json\n",
      "counties/kmeans-2021-03-21-01-19-21-732/rule-output/ProfilerReport-1616289561/profiler-output/profiler-reports/LowGPUUtilization.json\n",
      "counties/kmeans-2021-03-21-01-19-21-732/rule-output/ProfilerReport-1616289561/profiler-output/profiler-reports/MaxInitializationTime.json\n",
      "counties/kmeans-2021-03-21-01-19-21-732/rule-output/ProfilerReport-1616289561/profiler-output/profiler-reports/OverallFrameworkMetrics.json\n",
      "counties/kmeans-2021-03-21-01-19-21-732/rule-output/ProfilerReport-1616289561/profiler-output/profiler-reports/OverallSystemUsage.json\n",
      "counties/kmeans-2021-03-21-01-19-21-732/rule-output/ProfilerReport-1616289561/profiler-output/profiler-reports/StepOutlier.json\n",
      "counties/pca-2021-03-21-00-34-04-205/output/model.tar.gz\n",
      "counties/pca-2021-03-21-00-34-04-205/profiler-output/framework/training_job_end.ts\n",
      "counties/pca-2021-03-21-00-34-04-205/profiler-output/system/incremental/2021032100/1616286960.algo-1.json\n",
      "counties/pca-2021-03-21-00-34-04-205/profiler-output/system/incremental/2021032100/1616287020.algo-1.json\n",
      "counties/pca-2021-03-21-00-34-04-205/profiler-output/system/training_job_end.ts\n",
      "counties/pca-2021-03-21-00-34-04-205/rule-output/ProfilerReport-1616286844/profiler-output/profiler-report.html\n",
      "counties/pca-2021-03-21-00-34-04-205/rule-output/ProfilerReport-1616286844/profiler-output/profiler-report.ipynb\n",
      "counties/pca-2021-03-21-00-34-04-205/rule-output/ProfilerReport-1616286844/profiler-output/profiler-reports/BatchSize.json\n",
      "counties/pca-2021-03-21-00-34-04-205/rule-output/ProfilerReport-1616286844/profiler-output/profiler-reports/CPUBottleneck.json\n",
      "counties/pca-2021-03-21-00-34-04-205/rule-output/ProfilerReport-1616286844/profiler-output/profiler-reports/Dataloader.json\n",
      "counties/pca-2021-03-21-00-34-04-205/rule-output/ProfilerReport-1616286844/profiler-output/profiler-reports/GPUMemoryIncrease.json\n",
      "counties/pca-2021-03-21-00-34-04-205/rule-output/ProfilerReport-1616286844/profiler-output/profiler-reports/IOBottleneck.json\n",
      "counties/pca-2021-03-21-00-34-04-205/rule-output/ProfilerReport-1616286844/profiler-output/profiler-reports/LoadBalancing.json\n",
      "counties/pca-2021-03-21-00-34-04-205/rule-output/ProfilerReport-1616286844/profiler-output/profiler-reports/LowGPUUtilization.json\n",
      "counties/pca-2021-03-21-00-34-04-205/rule-output/ProfilerReport-1616286844/profiler-output/profiler-reports/MaxInitializationTime.json\n",
      "counties/pca-2021-03-21-00-34-04-205/rule-output/ProfilerReport-1616286844/profiler-output/profiler-reports/OverallFrameworkMetrics.json\n",
      "counties/pca-2021-03-21-00-34-04-205/rule-output/ProfilerReport-1616286844/profiler-output/profiler-reports/OverallSystemUsage.json\n",
      "counties/pca-2021-03-21-00-34-04-205/rule-output/ProfilerReport-1616286844/profiler-output/profiler-reports/StepOutlier.json\n",
      "counties/pca-2021-03-21-00-52-25-560/output/model.tar.gz\n",
      "counties/pca-2021-03-21-00-52-25-560/profiler-output/framework/training_job_end.ts\n",
      "counties/pca-2021-03-21-00-52-25-560/profiler-output/system/incremental/2021032100/1616288040.algo-1.json\n",
      "counties/pca-2021-03-21-00-52-25-560/profiler-output/system/incremental/2021032100/1616288100.algo-1.json\n",
      "counties/pca-2021-03-21-00-52-25-560/profiler-output/system/training_job_end.ts\n",
      "counties/pca-2021-03-21-00-52-25-560/rule-output/ProfilerReport-1616287945/profiler-output/profiler-report.html\n",
      "counties/pca-2021-03-21-00-52-25-560/rule-output/ProfilerReport-1616287945/profiler-output/profiler-report.ipynb\n",
      "counties/pca-2021-03-21-00-52-25-560/rule-output/ProfilerReport-1616287945/profiler-output/profiler-reports/BatchSize.json\n",
      "counties/pca-2021-03-21-00-52-25-560/rule-output/ProfilerReport-1616287945/profiler-output/profiler-reports/CPUBottleneck.json\n",
      "counties/pca-2021-03-21-00-52-25-560/rule-output/ProfilerReport-1616287945/profiler-output/profiler-reports/Dataloader.json\n",
      "counties/pca-2021-03-21-00-52-25-560/rule-output/ProfilerReport-1616287945/profiler-output/profiler-reports/GPUMemoryIncrease.json\n",
      "counties/pca-2021-03-21-00-52-25-560/rule-output/ProfilerReport-1616287945/profiler-output/profiler-reports/IOBottleneck.json\n",
      "counties/pca-2021-03-21-00-52-25-560/rule-output/ProfilerReport-1616287945/profiler-output/profiler-reports/LoadBalancing.json\n",
      "counties/pca-2021-03-21-00-52-25-560/rule-output/ProfilerReport-1616287945/profiler-output/profiler-reports/LowGPUUtilization.json\n",
      "counties/pca-2021-03-21-00-52-25-560/rule-output/ProfilerReport-1616287945/profiler-output/profiler-reports/MaxInitializationTime.json\n",
      "counties/pca-2021-03-21-00-52-25-560/rule-output/ProfilerReport-1616287945/profiler-output/profiler-reports/OverallFrameworkMetrics.json\n",
      "counties/pca-2021-03-21-00-52-25-560/rule-output/ProfilerReport-1616287945/profiler-output/profiler-reports/OverallSystemUsage.json\n",
      "counties/pca-2021-03-21-00-52-25-560/rule-output/ProfilerReport-1616287945/profiler-output/profiler-reports/StepOutlier.json\n",
      "counties/pca-2021-03-21-00-55-39-863/output/model.tar.gz\n",
      "counties/pca-2021-03-21-00-55-39-863/profiler-output/framework/training_job_end.ts\n",
      "counties/pca-2021-03-21-00-55-39-863/profiler-output/system/incremental/2021032100/1616288280.algo-1.json\n",
      "counties/pca-2021-03-21-00-55-39-863/profiler-output/system/incremental/2021032100/1616288340.algo-1.json\n",
      "counties/pca-2021-03-21-00-55-39-863/profiler-output/system/training_job_end.ts\n",
      "counties/pca-2021-03-21-00-55-39-863/rule-output/ProfilerReport-1616288139/profiler-output/profiler-report.html\n",
      "counties/pca-2021-03-21-00-55-39-863/rule-output/ProfilerReport-1616288139/profiler-output/profiler-report.ipynb\n",
      "counties/pca-2021-03-21-00-55-39-863/rule-output/ProfilerReport-1616288139/profiler-output/profiler-reports/BatchSize.json\n",
      "counties/pca-2021-03-21-00-55-39-863/rule-output/ProfilerReport-1616288139/profiler-output/profiler-reports/CPUBottleneck.json\n",
      "counties/pca-2021-03-21-00-55-39-863/rule-output/ProfilerReport-1616288139/profiler-output/profiler-reports/Dataloader.json\n",
      "counties/pca-2021-03-21-00-55-39-863/rule-output/ProfilerReport-1616288139/profiler-output/profiler-reports/GPUMemoryIncrease.json\n",
      "counties/pca-2021-03-21-00-55-39-863/rule-output/ProfilerReport-1616288139/profiler-output/profiler-reports/IOBottleneck.json\n",
      "counties/pca-2021-03-21-00-55-39-863/rule-output/ProfilerReport-1616288139/profiler-output/profiler-reports/LoadBalancing.json\n",
      "counties/pca-2021-03-21-00-55-39-863/rule-output/ProfilerReport-1616288139/profiler-output/profiler-reports/LowGPUUtilization.json\n",
      "counties/pca-2021-03-21-00-55-39-863/rule-output/ProfilerReport-1616288139/profiler-output/profiler-reports/MaxInitializationTime.json\n",
      "counties/pca-2021-03-21-00-55-39-863/rule-output/ProfilerReport-1616288139/profiler-output/profiler-reports/OverallFrameworkMetrics.json\n",
      "counties/pca-2021-03-21-00-55-39-863/rule-output/ProfilerReport-1616288139/profiler-output/profiler-reports/OverallSystemUsage.json\n",
      "counties/pca-2021-03-21-00-55-39-863/rule-output/ProfilerReport-1616288139/profiler-output/profiler-reports/StepOutlier.json\n",
      "plagiarism_project/test.csv\n",
      "plagiarism_project/train.csv\n",
      "sagemaker-pytorch-2021-03-22-03-52-02-478/debug-output/training_job_end.ts\n",
      "sagemaker-pytorch-2021-03-22-03-52-02-478/output/model.tar.gz\n",
      "sagemaker-pytorch-2021-03-22-03-52-02-478/source/sourcedir.tar.gz\n",
      "sagemaker-pytorch-2021-03-22-05-04-33-293/sourcedir.tar.gz\n",
      "sagemaker-pytorch-2021-03-22-05-32-10-022/sourcedir.tar.gz\n",
      "sagemaker-record-sets/KMeans-2021-03-21-01-19-17-101/.amazon.manifest\n",
      "sagemaker-record-sets/KMeans-2021-03-21-01-19-17-101/matrix_0.pbr\n",
      "sagemaker-record-sets/PCA-2021-03-21-00-33-58-748/.amazon.manifest\n",
      "sagemaker-record-sets/PCA-2021-03-21-00-33-58-748/matrix_0.pbr\n",
      "sagemaker-record-sets/PCA-2021-03-21-00-52-25-255/.amazon.manifest\n",
      "sagemaker-record-sets/PCA-2021-03-21-00-52-25-255/matrix_0.pbr\n",
      "sagemaker/sentiment_rnn/train.csv\n",
      "sagemaker/sentiment_rnn/word_dict.pkl\n",
      "Test passed!\n"
     ]
    }
   ],
   "source": [
    "\"\"\"\n",
    "DON'T MODIFY ANYTHING IN THIS CELL THAT IS BELOW THIS LINE\n",
    "\"\"\"\n",
    "# confirm that data is in S3 bucket\n",
    "empty_check = []\n",
    "for obj in boto3.resource('s3').Bucket(bucket).objects.all():\n",
    "    empty_check.append(obj.key)\n",
    "    print(obj.key)\n",
    "\n",
    "assert len(empty_check) !=0, 'S3 bucket is empty.'\n",
    "print('Test passed!')"
   ]
  },
  {
   "cell_type": "markdown",
   "metadata": {},
   "source": [
    "---\n",
    "\n",
    "# Modeling\n",
    "\n",
    "Now that you've uploaded your training data, it's time to define and train a model!\n",
    "\n",
    "The type of model you create is up to you. For a binary classification task, you can choose to go one of three routes:\n",
    "* Use a built-in classification algorithm, like LinearLearner.\n",
    "* Define a custom Scikit-learn classifier, a comparison of models can be found [here](https://scikit-learn.org/stable/auto_examples/classification/plot_classifier_comparison.html).\n",
    "* Define a custom PyTorch neural network classifier. \n",
    "\n",
    "It will be up to you to test out a variety of models and choose the best one. Your project will be graded on the accuracy of your final model. \n",
    " \n",
    "---\n",
    "\n",
    "## EXERCISE: Complete a training script \n",
    "\n",
    "To implement a custom classifier, you'll need to complete a `train.py` script. You've been given the folders `source_sklearn` and `source_pytorch` which hold starting code for a custom Scikit-learn model and a PyTorch model, respectively. Each directory has a `train.py` training script. To complete this project **you only need to complete one of these scripts**; the script that is responsible for training your final model.\n",
    "\n",
    "A typical training script:\n",
    "* Loads training data from a specified directory\n",
    "* Parses any training & model hyperparameters (ex. nodes in a neural network, training epochs, etc.)\n",
    "* Instantiates a model of your design, with any specified hyperparams\n",
    "* Trains that model \n",
    "* Finally, saves the model so that it can be hosted/deployed, later\n",
    "\n",
    "### Defining and training a model\n",
    "Much of the training script code is provided for you. Almost all of your work will be done in the `if __name__ == '__main__':` section. To complete a `train.py` file, you will:\n",
    "1. Import any extra libraries you need\n",
    "2. Define any additional model training hyperparameters using `parser.add_argument`\n",
    "2. Define a model in the `if __name__ == '__main__':` section\n",
    "3. Train the model in that same section\n",
    "\n",
    "Below, you can use `!pygmentize` to display an existing `train.py` file. Read through the code; all of your tasks are marked with `TODO` comments. \n",
    "\n",
    "**Note: If you choose to create a custom PyTorch model, you will be responsible for defining the model in the `model.py` file,** and a `predict.py` file is provided. If you choose to use Scikit-learn, you only need a `train.py` file; you may import a classifier from the `sklearn` library."
   ]
  },
  {
   "cell_type": "code",
   "execution_count": 16,
   "metadata": {},
   "outputs": [],
   "source": [
    "# directory can be changed to: source_sklearn or source_pytorch\n",
    "# !pygmentize source_sklearn/train.py"
   ]
  },
  {
   "cell_type": "markdown",
   "metadata": {},
   "source": [
    "### Provided code\n",
    "\n",
    "If you read the code above, you can see that the starter code includes a few things:\n",
    "* Model loading (`model_fn`) and saving code\n",
    "* Getting SageMaker's default hyperparameters\n",
    "* Loading the training data by name, `train.csv` and extracting the features and labels, `train_x`, and `train_y`\n",
    "\n",
    "If you'd like to read more about model saving with [joblib for sklearn](https://scikit-learn.org/stable/modules/model_persistence.html) or with [torch.save](https://pytorch.org/tutorials/beginner/saving_loading_models.html), click on the provided links."
   ]
  },
  {
   "cell_type": "markdown",
   "metadata": {},
   "source": [
    "---\n",
    "# Create an Estimator\n",
    "\n",
    "When a custom model is constructed in SageMaker, an entry point must be specified. This is the Python file which will be executed when the model is trained; the `train.py` function you specified above. To run a custom training script in SageMaker, construct an estimator, and fill in the appropriate constructor arguments:\n",
    "\n",
    "* **entry_point**: The path to the Python script SageMaker runs for training and prediction.\n",
    "* **source_dir**: The path to the training script directory `source_sklearn` OR `source_pytorch`.\n",
    "* **role**: Role ARN, which was specified, above.\n",
    "* **train_instance_count**: The number of training instances (should be left at 1).\n",
    "* **train_instance_type**: The type of SageMaker instance for training. Note: Because Scikit-learn does not natively support GPU training, Sagemaker Scikit-learn does not currently support training on GPU instance types.\n",
    "* **sagemaker_session**: The session used to train on Sagemaker.\n",
    "* **hyperparameters** (optional): A dictionary `{'name':value, ..}` passed to the train function as hyperparameters.\n",
    "\n",
    "Note: For a PyTorch model, there is another optional argument **framework_version**, which you can set to the latest version of PyTorch, `1.0`.\n",
    "\n",
    "## EXERCISE: Define a Scikit-learn or PyTorch estimator\n",
    "\n",
    "To import your desired estimator, use one of the following lines:\n",
    "```\n",
    "from sagemaker.sklearn.estimator import SKLearn\n",
    "```\n",
    "```\n",
    "from sagemaker.pytorch import PyTorch\n",
    "```"
   ]
  },
  {
   "cell_type": "code",
   "execution_count": 65,
   "metadata": {},
   "outputs": [],
   "source": [
    "from sagemaker.sklearn.estimator import SKLearn\n",
    "\n",
    "# your import and estimator code, here\n",
    "estimator = SKLearn(entry_point='train_RandomForest.py',\n",
    "                    source_dir=\"source_sklearn\",\n",
    "                    instance_type='ml.m4.xlarge',\n",
    "                    framework_version='0.20.0',\n",
    "                    role=role,\n",
    "                    sagemaker_session=sagemaker_session,\n",
    "                    hyperparameters={\n",
    "                        'n_estimators': 100, \n",
    "                    })\n",
    "\n",
    "# estimator = SKLearn(entry_point='train_AdaBoost.py',\n",
    "#                     source_dir=\"source_sklearn\",\n",
    "#                     instance_type='ml.m4.xlarge',\n",
    "#                     framework_version='0.23-1',\n",
    "#                     role=role,\n",
    "#                     sagemaker_session=sagemaker_session,\n",
    "#                     hyperparameters={\n",
    "#                         'n_estimators': 50, \n",
    "#                     })\n"
   ]
  },
  {
   "cell_type": "markdown",
   "metadata": {},
   "source": [
    "## EXERCISE: Train the estimator\n",
    "\n",
    "Train your estimator on the training data stored in S3. This should create a training job that you can monitor in your SageMaker console."
   ]
  },
  {
   "cell_type": "code",
   "execution_count": 67,
   "metadata": {
    "scrolled": false
   },
   "outputs": [
    {
     "name": "stdout",
     "output_type": "stream",
     "text": [
      "CPU times: user 520 ms, sys: 16.2 ms, total: 536 ms\n",
      "Wall time: 4min 42s\n"
     ]
    }
   ],
   "source": [
    "%%time\n",
    "%%capture \n",
    "\n",
    "\n",
    "# Train your estimator on S3 training data\n",
    "estimator.fit({'train': input_data})\n"
   ]
  },
  {
   "cell_type": "markdown",
   "metadata": {},
   "source": [
    "## EXERCISE: Deploy the trained model\n",
    "\n",
    "After training, deploy your model to create a `predictor`. If you're using a PyTorch model, you'll need to create a trained `PyTorchModel` that accepts the trained `<model>.model_data` as an input parameter and points to the provided `source_pytorch/predict.py` file as an entry point. \n",
    "\n",
    "To deploy a trained model, you'll use `<model>.deploy`, which takes in two arguments:\n",
    "* **initial_instance_count**: The number of deployed instances (1).\n",
    "* **instance_type**: The type of SageMaker instance for deployment.\n",
    "\n",
    "Note: If you run into an instance error, it may be because you chose the wrong training or deployment instance_type. It may help to refer to your previous exercise code to see which types of instances we used."
   ]
  },
  {
   "cell_type": "code",
   "execution_count": 68,
   "metadata": {},
   "outputs": [
    {
     "name": "stdout",
     "output_type": "stream",
     "text": [
      "CPU times: user 250 ms, sys: 6.77 ms, total: 257 ms\n",
      "Wall time: 8min 32s\n"
     ]
    }
   ],
   "source": [
    "%%time\n",
    "%%capture\n",
    "\n",
    "# Deploy my estimator to a SageMaker Endpoint and get a Predictor\n",
    "predictor = estimator.deploy(instance_type='ml.m4.xlarge',\n",
    "                             initial_instance_count=1)\n"
   ]
  },
  {
   "cell_type": "markdown",
   "metadata": {},
   "source": [
    "---\n",
    "# Evaluating Your Model\n",
    "\n",
    "Once your model is deployed, you can see how it performs when applied to our test data.\n",
    "\n",
    "The provided cell below, reads in the test data, assuming it is stored locally in `data_dir` and named `test.csv`. The labels and features are extracted from the `.csv` file."
   ]
  },
  {
   "cell_type": "code",
   "execution_count": 69,
   "metadata": {},
   "outputs": [],
   "source": [
    "\"\"\"\n",
    "DON'T MODIFY ANYTHING IN THIS CELL THAT IS BELOW THIS LINE\n",
    "\"\"\"\n",
    "import os\n",
    "\n",
    "# read in test data, assuming it is stored locally\n",
    "test_data = pd.read_csv(os.path.join(data_dir, \"test.csv\"), header=None, names=None)\n",
    "\n",
    "# labels are in the first column\n",
    "test_y = test_data.iloc[:,0]\n",
    "test_x = test_data.iloc[:,1:]"
   ]
  },
  {
   "cell_type": "markdown",
   "metadata": {},
   "source": [
    "## EXERCISE: Determine the accuracy of your model\n",
    "\n",
    "Use your deployed `predictor` to generate predicted, class labels for the test data. Compare those to the *true* labels, `test_y`, and calculate the accuracy as a value between 0 and 1.0 that indicates the fraction of test data that your model classified correctly. You may use [sklearn.metrics](https://scikit-learn.org/stable/modules/classes.html#module-sklearn.metrics) for this calculation.\n",
    "\n",
    "**To pass this project, your model should get at least 90% test accuracy.**"
   ]
  },
  {
   "cell_type": "code",
   "execution_count": 70,
   "metadata": {},
   "outputs": [
    {
     "name": "stdout",
     "output_type": "stream",
     "text": [
      "Test passed!\n"
     ]
    }
   ],
   "source": [
    "# First: generate predicted, class labels\n",
    "test_y_preds = predictor.predict(test_x)\n",
    "\n",
    "\n",
    "\"\"\"\n",
    "DON'T MODIFY ANYTHING IN THIS CELL THAT IS BELOW THIS LINE\n",
    "\"\"\"\n",
    "# test that your model generates the correct number of labels\n",
    "assert len(test_y_preds)==len(test_y), 'Unexpected number of predictions.'\n",
    "print('Test passed!')"
   ]
  },
  {
   "cell_type": "code",
   "execution_count": 71,
   "metadata": {},
   "outputs": [
    {
     "name": "stdout",
     "output_type": "stream",
     "text": [
      "1.0\n",
      "\n",
      "Predicted class labels: \n",
      "[1 1 1 1 1 1 0 0 0 0 0 0 1 1 1 1 1 1 0 1 0 1 1 0 0]\n",
      "\n",
      "True class labels: \n",
      "[1 1 1 1 1 1 0 0 0 0 0 0 1 1 1 1 1 1 0 1 0 1 1 0 0]\n"
     ]
    }
   ],
   "source": [
    "# Second: calculate the test accuracy\n",
    "accuracy = sum(test_y_preds==test_y)/len(test_y)\n",
    "\n",
    "print(accuracy)\n",
    "\n",
    "\n",
    "## print out the array of predicted and true labels, if you want\n",
    "print('\\nPredicted class labels: ')\n",
    "print(test_y_preds)\n",
    "print('\\nTrue class labels: ')\n",
    "print(test_y.values)"
   ]
  },
  {
   "cell_type": "markdown",
   "metadata": {},
   "source": [
    "### Question 1: How many false positives and false negatives did your model produce, if any? And why do you think this is?"
   ]
  },
  {
   "cell_type": "markdown",
   "metadata": {},
   "source": [
    "** Answer**: \n",
    "\n",
    "The Random Forest model achieved an accuracy of 100%, and the AdaBoost model achieved an accuracy of 92%. Both of them are very good! \n",
    "\n",
    "- The Random Forest model\n",
    "    - Number of false positives: 0\n",
    "    - Number of false negatives: 0\n",
    "- The AdaBoost model (Not shown above)\n",
    "    - Number of false positives: 2\n",
    "    - Number of false negatives: 0\n",
    "\n",
    "I think the performance is good mostly because of good feature engineering. The containment features and the longest subsequence feature nicely caputre the similarity between plagiarized essays and original essays.\n"
   ]
  },
  {
   "cell_type": "markdown",
   "metadata": {},
   "source": [
    "### Question 2: How did you decide on the type of model to use? "
   ]
  },
  {
   "cell_type": "markdown",
   "metadata": {},
   "source": [
    "** Answer**:\n",
    "\n",
    "I use tree-based ensembale methods including both random forest and adaboosting. These methods are usually believed to be more powerful than simpler methods like logistic regression. \n",
    "\n",
    "It turns out both of them perform very well. In both cases, I used the default parameters suggested by scikit-learn. AdaBoosting achieved an accuracy of 92%, and RandomForest 100%. "
   ]
  },
  {
   "cell_type": "markdown",
   "metadata": {},
   "source": [
    "----\n",
    "## EXERCISE: Clean up Resources\n",
    "\n",
    "After you're done evaluating your model, **delete your model endpoint**. You can do this with a call to `.delete_endpoint()`. You need to show, in this notebook, that the endpoint was deleted. Any other resources, you may delete from the AWS console, and you will find more instructions on cleaning up all your resources, below."
   ]
  },
  {
   "cell_type": "code",
   "execution_count": 72,
   "metadata": {},
   "outputs": [],
   "source": [
    "# uncomment and fill in the line below!\n",
    "\n",
    "predictor.delete_endpoint()"
   ]
  },
  {
   "cell_type": "markdown",
   "metadata": {},
   "source": [
    "### Deleting S3 bucket\n",
    "\n",
    "When you are *completely* done with training and testing models, you can also delete your entire S3 bucket. If you do this before you are done training your model, you'll have to recreate your S3 bucket and upload your training data again."
   ]
  },
  {
   "cell_type": "code",
   "execution_count": 73,
   "metadata": {
    "scrolled": true
   },
   "outputs": [
    {
     "data": {
      "text/plain": [
       "[{'ResponseMetadata': {'RequestId': '55ZM1SRV903WNFRK',\n",
       "   'HostId': 'VMXWylJfljdOtBbM3fscwZWWNyL9kCazcZoV/HCx2xwVop6zGBnA9OsUnX7X8x19J7tnwskGxVk=',\n",
       "   'HTTPStatusCode': 200,\n",
       "   'HTTPHeaders': {'x-amz-id-2': 'VMXWylJfljdOtBbM3fscwZWWNyL9kCazcZoV/HCx2xwVop6zGBnA9OsUnX7X8x19J7tnwskGxVk=',\n",
       "    'x-amz-request-id': '55ZM1SRV903WNFRK',\n",
       "    'date': 'Sun, 05 Sep 2021 12:09:43 GMT',\n",
       "    'content-type': 'application/xml',\n",
       "    'transfer-encoding': 'chunked',\n",
       "    'server': 'AmazonS3',\n",
       "    'connection': 'close'},\n",
       "   'RetryAttempts': 0},\n",
       "  'Deleted': [{'Key': 'sagemaker-scikit-learn-2021-09-05-09-42-23-026/rule-output/ProfilerReport-1630834943/profiler-output/profiler-reports/BatchSize.json'},\n",
       "   {'Key': 'sagemaker-scikit-learn-2021-09-05-10-55-33-753/debug-output/training_job_end.ts'},\n",
       "   {'Key': 'counties/kmeans-2021-03-21-01-19-21-732/rule-output/ProfilerReport-1616289561/profiler-output/profiler-reports/IOBottleneck.json'},\n",
       "   {'Key': 'counties/pca-2021-03-21-00-52-25-560/profiler-output/system/incremental/2021032100/1616288100.algo-1.json'},\n",
       "   {'Key': 'sagemaker-scikit-learn-2021-09-05-11-18-23-236/rule-output/ProfilerReport-1630840703/profiler-output/profiler-reports/CPUBottleneck.json'},\n",
       "   {'Key': 'sagemaker-scikit-learn-2021-09-05-10-55-33-753/output/model.tar.gz'},\n",
       "   {'Key': 'sagemaker-scikit-learn-2021-09-05-11-03-53-640/rule-output/ProfilerReport-1630839833/profiler-output/profiler-reports/OverallFrameworkMetrics.json'},\n",
       "   {'Key': 'counties/pca-2021-03-21-00-55-39-863/rule-output/ProfilerReport-1616288139/profiler-output/profiler-reports/MaxInitializationTime.json'},\n",
       "   {'Key': 'sagemaker-scikit-learn-2021-09-05-11-54-07-966/rule-output/ProfilerReport-1630842847/profiler-output/profiler-reports/MaxInitializationTime.json'},\n",
       "   {'Key': 'sagemaker-record-sets/PCA-2021-03-21-00-52-25-255/matrix_0.pbr'},\n",
       "   {'Key': 'counties/kmeans-2021-03-21-01-19-21-732/rule-output/ProfilerReport-1616289561/profiler-output/profiler-reports/LoadBalancing.json'},\n",
       "   {'Key': 'sagemaker-scikit-learn-2021-09-05-11-27-56-545/rule-output/ProfilerReport-1630841276/profiler-output/profiler-reports/IOBottleneck.json'},\n",
       "   {'Key': 'plagiarism_project/train.csv'},\n",
       "   {'Key': 'sagemaker-scikit-learn-2021-09-05-11-03-53-640/profiler-output/system/incremental/2021090511/1630839960.algo-1.json'},\n",
       "   {'Key': 'counties/pca-2021-03-21-00-52-25-560/rule-output/ProfilerReport-1616287945/profiler-output/profiler-reports/OverallFrameworkMetrics.json'},\n",
       "   {'Key': 'sagemaker-scikit-learn-2021-09-05-11-54-07-966/rule-output/ProfilerReport-1630842847/profiler-output/profiler-reports/OverallFrameworkMetrics.json'},\n",
       "   {'Key': 'counties/kmeans-2021-03-21-01-19-21-732/profiler-output/system/incremental/2021032101/1616289720.algo-1.json'},\n",
       "   {'Key': 'sagemaker-scikit-learn-2021-09-05-10-32-46-322/profiler-output/system/training_job_end.ts'},\n",
       "   {'Key': 'sagemaker-scikit-learn-2021-09-05-11-18-23-236/rule-output/ProfilerReport-1630840703/profiler-output/profiler-reports/MaxInitializationTime.json'},\n",
       "   {'Key': 'sagemaker-scikit-learn-2021-09-05-11-35-50-849/rule-output/ProfilerReport-1630841750/profiler-output/profiler-reports/OverallFrameworkMetrics.json'},\n",
       "   {'Key': 'sagemaker-scikit-learn-2021-09-05-10-55-33-753/rule-output/ProfilerReport-1630839333/profiler-output/profiler-reports/StepOutlier.json'},\n",
       "   {'Key': 'sagemaker-scikit-learn-2021-09-05-11-18-23-236/rule-output/ProfilerReport-1630840703/profiler-output/profiler-reports/IOBottleneck.json'},\n",
       "   {'Key': 'sagemaker-pytorch-2021-03-22-05-04-33-293/sourcedir.tar.gz'},\n",
       "   {'Key': 'sagemaker-scikit-learn-2021-09-05-10-32-46-322/rule-output/ProfilerReport-1630837966/profiler-output/profiler-reports/MaxInitializationTime.json'},\n",
       "   {'Key': 'sagemaker-scikit-learn-2021-09-05-11-35-50-849/rule-output/ProfilerReport-1630841750/profiler-output/profiler-reports/LowGPUUtilization.json'},\n",
       "   {'Key': 'counties/pca-2021-03-21-00-34-04-205/rule-output/ProfilerReport-1616286844/profiler-output/profiler-report.ipynb'},\n",
       "   {'Key': 'sagemaker-scikit-learn-2021-09-05-11-18-23-236/rule-output/ProfilerReport-1630840703/profiler-output/profiler-reports/LoadBalancing.json'},\n",
       "   {'Key': 'sagemaker-scikit-learn-2021-09-05-09-42-23-026/rule-output/ProfilerReport-1630834943/profiler-output/profiler-reports/LowGPUUtilization.json'},\n",
       "   {'Key': 'sagemaker-scikit-learn-2021-09-05-10-32-46-322/rule-output/ProfilerReport-1630837966/profiler-output/profiler-reports/CPUBottleneck.json'},\n",
       "   {'Key': 'sagemaker-scikit-learn-2021-09-05-11-18-23-236/profiler-output/system/incremental/2021090511/1630840920.algo-1.json'},\n",
       "   {'Key': 'counties/pca-2021-03-21-00-55-39-863/rule-output/ProfilerReport-1616288139/profiler-output/profiler-reports/StepOutlier.json'},\n",
       "   {'Key': 'sagemaker-scikit-learn-2021-09-05-09-42-23-026/profiler-output/system/incremental/2021090509/1630835100.algo-1.json'},\n",
       "   {'Key': 'sagemaker-scikit-learn-2021-09-05-10-32-46-322/rule-output/ProfilerReport-1630837966/profiler-output/profiler-report.html'},\n",
       "   {'Key': 'sagemaker-scikit-learn-2021-09-05-09-47-49-382/source/sourcedir.tar.gz'},\n",
       "   {'Key': 'sagemaker-scikit-learn-2021-09-05-10-55-33-753/profiler-output/system/incremental/2021090510/1630839480.algo-1.json'},\n",
       "   {'Key': 'sagemaker-scikit-learn-2021-09-05-09-47-49-382/profiler-output/system/incremental/2021090509/1630835520.algo-1.json'},\n",
       "   {'Key': 'sagemaker-scikit-learn-2021-09-05-11-54-07-966/rule-output/ProfilerReport-1630842847/profiler-output/profiler-reports/GPUMemoryIncrease.json'},\n",
       "   {'Key': 'sagemaker-scikit-learn-2021-09-05-09-42-23-026/rule-output/ProfilerReport-1630834943/profiler-output/profiler-report.ipynb'},\n",
       "   {'Key': 'sagemaker-scikit-learn-2021-09-05-11-35-50-849/rule-output/ProfilerReport-1630841750/profiler-output/profiler-reports/IOBottleneck.json'},\n",
       "   {'Key': 'sagemaker-scikit-learn-2021-09-05-11-54-07-966/rule-output/ProfilerReport-1630842847/profiler-output/profiler-reports/OverallSystemUsage.json'},\n",
       "   {'Key': 'counties/pca-2021-03-21-00-52-25-560/rule-output/ProfilerReport-1616287945/profiler-output/profiler-reports/IOBottleneck.json'},\n",
       "   {'Key': 'sagemaker-record-sets/PCA-2021-03-21-00-33-58-748/matrix_0.pbr'},\n",
       "   {'Key': 'sagemaker-scikit-learn-2021-09-05-11-03-53-640/output/model.tar.gz'},\n",
       "   {'Key': 'sagemaker-scikit-learn-2021-09-05-11-03-53-640/rule-output/ProfilerReport-1630839833/profiler-output/profiler-report.html'},\n",
       "   {'Key': 'counties/kmeans-2021-03-21-01-19-21-732/rule-output/ProfilerReport-1616289561/profiler-output/profiler-reports/MaxInitializationTime.json'},\n",
       "   {'Key': 'sagemaker-scikit-learn-2021-09-05-10-55-33-753/source/sourcedir.tar.gz'},\n",
       "   {'Key': 'counties/pca-2021-03-21-00-34-04-205/rule-output/ProfilerReport-1616286844/profiler-output/profiler-reports/LoadBalancing.json'},\n",
       "   {'Key': 'counties/pca-2021-03-21-00-34-04-205/rule-output/ProfilerReport-1616286844/profiler-output/profiler-reports/Dataloader.json'},\n",
       "   {'Key': 'sagemaker-scikit-learn-2021-09-05-11-54-07-966/rule-output/ProfilerReport-1630842847/profiler-output/profiler-reports/BatchSize.json'},\n",
       "   {'Key': 'sagemaker-scikit-learn-2021-09-05-11-03-53-640/source/sourcedir.tar.gz'},\n",
       "   {'Key': 'sagemaker-scikit-learn-2021-09-05-11-27-56-545/rule-output/ProfilerReport-1630841276/profiler-output/profiler-reports/GPUMemoryIncrease.json'},\n",
       "   {'Key': 'sagemaker-scikit-learn-2021-09-05-11-35-50-849/debug-output/training_job_end.ts'},\n",
       "   {'Key': 'counties/pca-2021-03-21-00-34-04-205/rule-output/ProfilerReport-1616286844/profiler-output/profiler-reports/OverallSystemUsage.json'},\n",
       "   {'Key': 'sagemaker-scikit-learn-2021-09-05-11-35-50-849/profiler-output/system/training_job_end.ts'},\n",
       "   {'Key': 'sagemaker-scikit-learn-2021-09-05-10-32-46-322/rule-output/ProfilerReport-1630837966/profiler-output/profiler-reports/BatchSize.json'},\n",
       "   {'Key': 'sagemaker-scikit-learn-2021-09-05-11-54-07-966/output/model.tar.gz'},\n",
       "   {'Key': 'sagemaker-scikit-learn-2021-09-05-11-03-53-640/rule-output/ProfilerReport-1630839833/profiler-output/profiler-reports/Dataloader.json'},\n",
       "   {'Key': 'counties/kmeans-2021-03-21-01-19-21-732/rule-output/ProfilerReport-1616289561/profiler-output/profiler-reports/BatchSize.json'},\n",
       "   {'Key': 'sagemaker-pytorch-2021-03-22-05-32-10-022/sourcedir.tar.gz'},\n",
       "   {'Key': 'counties/pca-2021-03-21-00-34-04-205/rule-output/ProfilerReport-1616286844/profiler-output/profiler-reports/BatchSize.json'},\n",
       "   {'Key': 'sagemaker-scikit-learn-2021-09-05-10-55-33-753/profiler-output/system/training_job_end.ts'},\n",
       "   {'Key': 'sagemaker-scikit-learn-2021-09-05-10-55-33-753/rule-output/ProfilerReport-1630839333/profiler-output/profiler-report.ipynb'},\n",
       "   {'Key': 'sagemaker-scikit-learn-2021-09-05-11-27-56-545/rule-output/ProfilerReport-1630841276/profiler-output/profiler-reports/BatchSize.json'},\n",
       "   {'Key': 'counties/pca-2021-03-21-00-34-04-205/profiler-output/system/incremental/2021032100/1616287020.algo-1.json'},\n",
       "   {'Key': 'counties/pca-2021-03-21-00-52-25-560/rule-output/ProfilerReport-1616287945/profiler-output/profiler-reports/GPUMemoryIncrease.json'},\n",
       "   {'Key': 'sagemaker-scikit-learn-2021-09-05-10-55-33-753/rule-output/ProfilerReport-1630839333/profiler-output/profiler-reports/MaxInitializationTime.json'},\n",
       "   {'Key': 'counties/pca-2021-03-21-00-52-25-560/rule-output/ProfilerReport-1616287945/profiler-output/profiler-reports/LowGPUUtilization.json'},\n",
       "   {'Key': 'counties/pca-2021-03-21-00-55-39-863/rule-output/ProfilerReport-1616288139/profiler-output/profiler-reports/OverallFrameworkMetrics.json'},\n",
       "   {'Key': 'sagemaker-scikit-learn-2021-09-05-10-32-46-322/rule-output/ProfilerReport-1630837966/profiler-output/profiler-reports/OverallSystemUsage.json'},\n",
       "   {'Key': 'sagemaker-scikit-learn-2021-09-05-11-35-50-849/profiler-output/system/incremental/2021090511/1630842000.algo-1.json'},\n",
       "   {'Key': 'sagemaker-scikit-learn-2021-09-05-11-35-50-849/profiler-output/system/incremental/2021090511/1630841940.algo-1.json'},\n",
       "   {'Key': 'sagemaker-scikit-learn-2021-09-05-11-35-50-849/profiler-output/framework/training_job_end.ts'},\n",
       "   {'Key': 'sagemaker-scikit-learn-2021-09-05-11-54-07-966/profiler-output/system/training_job_end.ts'},\n",
       "   {'Key': 'sagemaker-scikit-learn-2021-09-05-10-32-46-322/rule-output/ProfilerReport-1630837966/profiler-output/profiler-report.ipynb'},\n",
       "   {'Key': 'sagemaker-scikit-learn-2021-09-05-10-32-46-322/rule-output/ProfilerReport-1630837966/profiler-output/profiler-reports/LoadBalancing.json'},\n",
       "   {'Key': 'counties/pca-2021-03-21-00-55-39-863/profiler-output/system/incremental/2021032100/1616288280.algo-1.json'},\n",
       "   {'Key': 'sagemaker-scikit-learn-2021-09-05-10-32-46-322/profiler-output/framework/training_job_end.ts'},\n",
       "   {'Key': 'sagemaker-scikit-learn-2021-09-05-11-54-07-966/source/sourcedir.tar.gz'},\n",
       "   {'Key': 'sagemaker-scikit-learn-2021-09-05-10-55-33-753/rule-output/ProfilerReport-1630839333/profiler-output/profiler-reports/GPUMemoryIncrease.json'},\n",
       "   {'Key': 'counties/pca-2021-03-21-00-52-25-560/rule-output/ProfilerReport-1616287945/profiler-output/profiler-report.html'},\n",
       "   {'Key': 'sagemaker-scikit-learn-2021-09-05-10-32-46-322/rule-output/ProfilerReport-1630837966/profiler-output/profiler-reports/StepOutlier.json'},\n",
       "   {'Key': 'counties/kmeans-2021-03-21-01-19-21-732/rule-output/ProfilerReport-1616289561/profiler-output/profiler-reports/Dataloader.json'},\n",
       "   {'Key': 'sagemaker-scikit-learn-2021-09-05-10-55-33-753/profiler-output/framework/training_job_end.ts'},\n",
       "   {'Key': 'sagemaker-scikit-learn-2021-09-05-11-03-53-640/rule-output/ProfilerReport-1630839833/profiler-output/profiler-reports/BatchSize.json'},\n",
       "   {'Key': 'sagemaker-scikit-learn-2021-09-05-09-42-23-026/rule-output/ProfilerReport-1630834943/profiler-output/profiler-reports/LoadBalancing.json'},\n",
       "   {'Key': 'sagemaker-scikit-learn-2021-09-05-10-32-46-322/rule-output/ProfilerReport-1630837966/profiler-output/profiler-reports/GPUMemoryIncrease.json'},\n",
       "   {'Key': 'sagemaker/sentiment_rnn/word_dict.pkl'},\n",
       "   {'Key': 'sagemaker-pytorch-2021-03-22-03-52-02-478/source/sourcedir.tar.gz'},\n",
       "   {'Key': 'sagemaker-scikit-learn-2021-09-05-11-18-23-236/rule-output/ProfilerReport-1630840703/profiler-output/profiler-reports/LowGPUUtilization.json'},\n",
       "   {'Key': 'plagiarism_project/test.csv'},\n",
       "   {'Key': 'counties/pca-2021-03-21-00-55-39-863/rule-output/ProfilerReport-1616288139/profiler-output/profiler-reports/BatchSize.json'},\n",
       "   {'Key': 'sagemaker-record-sets/KMeans-2021-03-21-01-19-17-101/.amazon.manifest'},\n",
       "   {'Key': 'counties/pca-2021-03-21-00-52-25-560/profiler-output/system/incremental/2021032100/1616288040.algo-1.json'},\n",
       "   {'Key': 'sagemaker-pytorch-2021-03-22-03-52-02-478/debug-output/training_job_end.ts'},\n",
       "   {'Key': 'sagemaker-scikit-learn-2021-09-05-11-35-50-849/rule-output/ProfilerReport-1630841750/profiler-output/profiler-reports/StepOutlier.json'},\n",
       "   {'Key': 'counties/kmeans-2021-03-21-01-19-21-732/profiler-output/framework/training_job_end.ts'},\n",
       "   {'Key': 'counties/pca-2021-03-21-00-55-39-863/rule-output/ProfilerReport-1616288139/profiler-output/profiler-reports/LowGPUUtilization.json'},\n",
       "   {'Key': 'counties/pca-2021-03-21-00-55-39-863/rule-output/ProfilerReport-1616288139/profiler-output/profiler-report.html'},\n",
       "   {'Key': 'sagemaker-scikit-learn-2021-09-05-11-27-56-545/rule-output/ProfilerReport-1630841276/profiler-output/profiler-reports/OverallSystemUsage.json'},\n",
       "   {'Key': 'sagemaker-scikit-learn-2021-09-05-09-42-23-026/source/sourcedir.tar.gz'},\n",
       "   {'Key': 'counties/kmeans-2021-03-21-01-19-21-732/rule-output/ProfilerReport-1616289561/profiler-output/profiler-reports/OverallFrameworkMetrics.json'},\n",
       "   {'Key': 'counties/pca-2021-03-21-00-34-04-205/rule-output/ProfilerReport-1616286844/profiler-output/profiler-report.html'},\n",
       "   {'Key': 'sagemaker-scikit-learn-2021-09-05-11-18-23-236/profiler-output/system/incremental/2021090511/1630840860.algo-1.json'},\n",
       "   {'Key': 'sagemaker-scikit-learn-2021-09-05-11-35-50-849/rule-output/ProfilerReport-1630841750/profiler-output/profiler-report.html'},\n",
       "   {'Key': 'sagemaker-scikit-learn-2021-09-05-11-18-23-236/rule-output/ProfilerReport-1630840703/profiler-output/profiler-reports/Dataloader.json'},\n",
       "   {'Key': 'sagemaker-scikit-learn-2021-09-05-11-35-50-849/rule-output/ProfilerReport-1630841750/profiler-output/profiler-report.ipynb'},\n",
       "   {'Key': 'sagemaker-scikit-learn-2021-09-05-11-27-56-545/rule-output/ProfilerReport-1630841276/profiler-output/profiler-report.ipynb'},\n",
       "   {'Key': 'sagemaker-scikit-learn-2021-09-05-09-42-23-026/profiler-output/system/incremental/2021090509/1630835160.algo-1.json'},\n",
       "   {'Key': 'sagemaker-scikit-learn-2021-09-05-10-55-33-753/rule-output/ProfilerReport-1630839333/profiler-output/profiler-reports/CPUBottleneck.json'},\n",
       "   {'Key': 'counties/pca-2021-03-21-00-55-39-863/profiler-output/system/incremental/2021032100/1616288340.algo-1.json'},\n",
       "   {'Key': 'sagemaker-scikit-learn-2021-09-05-11-54-07-966/rule-output/ProfilerReport-1630842847/profiler-output/profiler-reports/LoadBalancing.json'},\n",
       "   {'Key': 'counties/pca-2021-03-21-00-52-25-560/rule-output/ProfilerReport-1616287945/profiler-output/profiler-reports/BatchSize.json'},\n",
       "   {'Key': 'sagemaker-scikit-learn-2021-09-05-10-55-33-753/profiler-output/system/incremental/2021090510/1630839420.algo-1.json'},\n",
       "   {'Key': 'sagemaker-pytorch-2021-03-22-03-52-02-478/output/model.tar.gz'},\n",
       "   {'Key': 'sagemaker-scikit-learn-2021-09-05-10-55-33-753/rule-output/ProfilerReport-1630839333/profiler-output/profiler-report.html'},\n",
       "   {'Key': 'sagemaker-scikit-learn-2021-09-05-11-54-07-966/rule-output/ProfilerReport-1630842847/profiler-output/profiler-reports/IOBottleneck.json'},\n",
       "   {'Key': 'counties/pca-2021-03-21-00-34-04-205/profiler-output/system/training_job_end.ts'},\n",
       "   {'Key': 'counties/pca-2021-03-21-00-52-25-560/rule-output/ProfilerReport-1616287945/profiler-output/profiler-reports/MaxInitializationTime.json'},\n",
       "   {'Key': 'counties/pca-2021-03-21-00-34-04-205/rule-output/ProfilerReport-1616286844/profiler-output/profiler-reports/IOBottleneck.json'},\n",
       "   {'Key': 'sagemaker-scikit-learn-2021-09-05-10-32-46-322/rule-output/ProfilerReport-1630837966/profiler-output/profiler-reports/Dataloader.json'},\n",
       "   {'Key': 'sagemaker-scikit-learn-2021-09-05-11-03-53-640/rule-output/ProfilerReport-1630839833/profiler-output/profiler-reports/CPUBottleneck.json'},\n",
       "   {'Key': 'sagemaker/sentiment_rnn/train.csv'},\n",
       "   {'Key': 'sagemaker-scikit-learn-2021-09-05-11-35-50-849/rule-output/ProfilerReport-1630841750/profiler-output/profiler-reports/LoadBalancing.json'},\n",
       "   {'Key': 'sagemaker-scikit-learn-2021-09-05-11-27-56-545/rule-output/ProfilerReport-1630841276/profiler-output/profiler-reports/LowGPUUtilization.json'},\n",
       "   {'Key': 'sagemaker-scikit-learn-2021-09-05-11-03-53-640/rule-output/ProfilerReport-1630839833/profiler-output/profiler-reports/OverallSystemUsage.json'},\n",
       "   {'Key': 'sagemaker-scikit-learn-2021-09-05-11-03-53-640/rule-output/ProfilerReport-1630839833/profiler-output/profiler-reports/LoadBalancing.json'},\n",
       "   {'Key': 'sagemaker-scikit-learn-2021-09-05-09-42-23-026/rule-output/ProfilerReport-1630834943/profiler-output/profiler-reports/OverallFrameworkMetrics.json'},\n",
       "   {'Key': 'sagemaker-scikit-learn-2021-09-05-11-27-56-545/rule-output/ProfilerReport-1630841276/profiler-output/profiler-reports/MaxInitializationTime.json'},\n",
       "   {'Key': 'counties/pca-2021-03-21-00-34-04-205/profiler-output/system/incremental/2021032100/1616286960.algo-1.json'},\n",
       "   {'Key': 'sagemaker-scikit-learn-2021-09-05-11-35-50-849/rule-output/ProfilerReport-1630841750/profiler-output/profiler-reports/MaxInitializationTime.json'},\n",
       "   {'Key': 'sagemaker-scikit-learn-2021-09-05-11-18-23-236/rule-output/ProfilerReport-1630840703/profiler-output/profiler-report.html'},\n",
       "   {'Key': 'counties/pca-2021-03-21-00-55-39-863/rule-output/ProfilerReport-1616288139/profiler-output/profiler-reports/CPUBottleneck.json'},\n",
       "   {'Key': 'counties/pca-2021-03-21-00-52-25-560/rule-output/ProfilerReport-1616287945/profiler-output/profiler-reports/Dataloader.json'},\n",
       "   {'Key': 'sagemaker-scikit-learn-2021-09-05-11-27-56-545/rule-output/ProfilerReport-1630841276/profiler-output/profiler-reports/CPUBottleneck.json'},\n",
       "   {'Key': 'sagemaker-scikit-learn-2021-09-05-11-27-56-545/rule-output/ProfilerReport-1630841276/profiler-output/profiler-reports/Dataloader.json'},\n",
       "   {'Key': 'counties/kmeans-2021-03-21-01-19-21-732/rule-output/ProfilerReport-1616289561/profiler-output/profiler-report.ipynb'},\n",
       "   {'Key': 'counties/pca-2021-03-21-00-55-39-863/profiler-output/framework/training_job_end.ts'},\n",
       "   {'Key': 'sagemaker-scikit-learn-2021-09-05-11-54-07-966/rule-output/ProfilerReport-1630842847/profiler-output/profiler-reports/LowGPUUtilization.json'},\n",
       "   {'Key': 'sagemaker-scikit-learn-2021-09-05-11-03-53-640/debug-output/training_job_end.ts'},\n",
       "   {'Key': 'counties/pca-2021-03-21-00-55-39-863/rule-output/ProfilerReport-1616288139/profiler-output/profiler-reports/GPUMemoryIncrease.json'},\n",
       "   {'Key': 'sagemaker-scikit-learn-2021-09-05-11-54-07-966/rule-output/ProfilerReport-1630842847/profiler-output/profiler-reports/CPUBottleneck.json'},\n",
       "   {'Key': 'counties/pca-2021-03-21-00-52-25-560/rule-output/ProfilerReport-1616287945/profiler-output/profiler-report.ipynb'},\n",
       "   {'Key': 'sagemaker-scikit-learn-2021-09-05-10-32-46-322/debug-output/training_job_end.ts'},\n",
       "   {'Key': 'sagemaker-scikit-learn-2021-09-05-11-27-56-545/rule-output/ProfilerReport-1630841276/profiler-output/profiler-reports/StepOutlier.json'},\n",
       "   {'Key': 'sagemaker-scikit-learn-2021-09-05-11-54-07-966/profiler-output/framework/training_job_end.ts'},\n",
       "   {'Key': 'sagemaker-scikit-learn-2021-09-05-11-18-23-236/rule-output/ProfilerReport-1630840703/profiler-output/profiler-reports/GPUMemoryIncrease.json'},\n",
       "   {'Key': 'sagemaker-scikit-learn-2021-09-05-11-03-53-640/rule-output/ProfilerReport-1630839833/profiler-output/profiler-reports/MaxInitializationTime.json'},\n",
       "   {'Key': 'counties/pca-2021-03-21-00-34-04-205/rule-output/ProfilerReport-1616286844/profiler-output/profiler-reports/StepOutlier.json'},\n",
       "   {'Key': 'sagemaker-record-sets/KMeans-2021-03-21-01-19-17-101/matrix_0.pbr'},\n",
       "   {'Key': 'sagemaker-scikit-learn-2021-09-05-09-42-23-026/rule-output/ProfilerReport-1630834943/profiler-output/profiler-reports/CPUBottleneck.json'},\n",
       "   {'Key': 'sagemaker-scikit-learn-2021-09-05-10-55-33-753/rule-output/ProfilerReport-1630839333/profiler-output/profiler-reports/Dataloader.json'},\n",
       "   {'Key': 'sagemaker-scikit-learn-2021-09-05-09-42-23-026/rule-output/ProfilerReport-1630834943/profiler-output/profiler-reports/Dataloader.json'},\n",
       "   {'Key': 'sagemaker-scikit-learn-2021-09-05-11-35-50-849/source/sourcedir.tar.gz'},\n",
       "   {'Key': 'sagemaker-scikit-learn-2021-09-05-11-27-56-545/rule-output/ProfilerReport-1630841276/profiler-output/profiler-report.html'},\n",
       "   {'Key': 'counties/pca-2021-03-21-00-52-25-560/rule-output/ProfilerReport-1616287945/profiler-output/profiler-reports/StepOutlier.json'},\n",
       "   {'Key': 'sagemaker-scikit-learn-2021-09-05-09-42-23-026/rule-output/ProfilerReport-1630834943/profiler-output/profiler-reports/IOBottleneck.json'},\n",
       "   {'Key': 'sagemaker-scikit-learn-2021-09-05-11-35-50-849/rule-output/ProfilerReport-1630841750/profiler-output/profiler-reports/BatchSize.json'},\n",
       "   {'Key': 'sagemaker-scikit-learn-2021-09-05-10-32-46-322/rule-output/ProfilerReport-1630837966/profiler-output/profiler-reports/OverallFrameworkMetrics.json'},\n",
       "   {'Key': 'sagemaker-scikit-learn-2021-09-05-11-54-07-966/rule-output/ProfilerReport-1630842847/profiler-output/profiler-reports/StepOutlier.json'},\n",
       "   {'Key': 'counties/pca-2021-03-21-00-52-25-560/output/model.tar.gz'},\n",
       "   {'Key': 'sagemaker-scikit-learn-2021-09-05-11-18-23-236/rule-output/ProfilerReport-1630840703/profiler-output/profiler-reports/OverallFrameworkMetrics.json'},\n",
       "   {'Key': 'counties/pca-2021-03-21-00-34-04-205/rule-output/ProfilerReport-1616286844/profiler-output/profiler-reports/LowGPUUtilization.json'},\n",
       "   {'Key': 'counties/pca-2021-03-21-00-52-25-560/rule-output/ProfilerReport-1616287945/profiler-output/profiler-reports/CPUBottleneck.json'},\n",
       "   {'Key': 'sagemaker-scikit-learn-2021-09-05-10-55-33-753/rule-output/ProfilerReport-1630839333/profiler-output/profiler-reports/LowGPUUtilization.json'},\n",
       "   {'Key': 'sagemaker-scikit-learn-2021-09-05-11-27-56-545/profiler-output/system/incremental/2021090511/1630841400.algo-1.json'},\n",
       "   {'Key': 'counties/pca-2021-03-21-00-34-04-205/output/model.tar.gz'},\n",
       "   {'Key': 'sagemaker-scikit-learn-2021-09-05-11-27-56-545/rule-output/ProfilerReport-1630841276/profiler-output/profiler-reports/LoadBalancing.json'},\n",
       "   {'Key': 'sagemaker-scikit-learn-2021-09-05-11-54-07-966/profiler-output/system/incremental/2021090511/1630843020.algo-1.json'},\n",
       "   {'Key': 'sagemaker-scikit-learn-2021-09-05-11-54-07-966/profiler-output/system/incremental/2021090511/1630843080.algo-1.json'},\n",
       "   {'Key': 'sagemaker-scikit-learn-2021-09-05-11-54-07-966/rule-output/ProfilerReport-1630842847/profiler-output/profiler-report.ipynb'},\n",
       "   {'Key': 'sagemaker-scikit-learn-2021-09-05-10-32-46-322/rule-output/ProfilerReport-1630837966/profiler-output/profiler-reports/IOBottleneck.json'},\n",
       "   {'Key': 'counties/pca-2021-03-21-00-55-39-863/rule-output/ProfilerReport-1616288139/profiler-output/profiler-report.ipynb'},\n",
       "   {'Key': 'sagemaker-scikit-learn-2021-09-05-09-42-23-026/rule-output/ProfilerReport-1630834943/profiler-output/profiler-report.html'},\n",
       "   {'Key': 'counties/kmeans-2021-03-21-01-19-21-732/profiler-output/system/incremental/2021032101/1616289660.algo-1.json'},\n",
       "   {'Key': 'counties/pca-2021-03-21-00-34-04-205/rule-output/ProfilerReport-1616286844/profiler-output/profiler-reports/OverallFrameworkMetrics.json'},\n",
       "   {'Key': 'sagemaker-record-sets/PCA-2021-03-21-00-33-58-748/.amazon.manifest'},\n",
       "   {'Key': 'sagemaker-scikit-learn-2021-09-05-11-03-53-640/rule-output/ProfilerReport-1630839833/profiler-output/profiler-report.ipynb'},\n",
       "   {'Key': 'sagemaker-scikit-learn-2021-09-05-11-03-53-640/profiler-output/framework/training_job_end.ts'},\n",
       "   {'Key': 'sagemaker-scikit-learn-2021-09-05-11-18-23-236/source/sourcedir.tar.gz'},\n",
       "   {'Key': 'counties/pca-2021-03-21-00-52-25-560/rule-output/ProfilerReport-1616287945/profiler-output/profiler-reports/LoadBalancing.json'},\n",
       "   {'Key': 'sagemaker-scikit-learn-2021-09-05-09-47-49-382/profiler-output/system/incremental/2021090509/1630835460.algo-1.json'},\n",
       "   {'Key': 'counties/kmeans-2021-03-21-01-19-21-732/rule-output/ProfilerReport-1616289561/profiler-output/profiler-reports/StepOutlier.json'},\n",
       "   {'Key': 'sagemaker-scikit-learn-2021-09-05-11-54-07-966/rule-output/ProfilerReport-1630842847/profiler-output/profiler-reports/Dataloader.json'},\n",
       "   {'Key': 'sagemaker-scikit-learn-2021-09-05-11-03-53-640/rule-output/ProfilerReport-1630839833/profiler-output/profiler-reports/IOBottleneck.json'},\n",
       "   {'Key': 'sagemaker-scikit-learn-2021-09-05-09-42-23-026/rule-output/ProfilerReport-1630834943/profiler-output/profiler-reports/StepOutlier.json'},\n",
       "   {'Key': 'sagemaker-scikit-learn-2021-09-05-11-35-50-849/profiler-output/system/incremental/2021090511/1630841880.algo-1.json'},\n",
       "   {'Key': 'sagemaker-scikit-learn-2021-09-05-11-18-23-236/rule-output/ProfilerReport-1630840703/profiler-output/profiler-report.ipynb'},\n",
       "   {'Key': 'counties/pca-2021-03-21-00-34-04-205/rule-output/ProfilerReport-1616286844/profiler-output/profiler-reports/GPUMemoryIncrease.json'},\n",
       "   {'Key': 'sagemaker-scikit-learn-2021-09-05-09-42-23-026/rule-output/ProfilerReport-1630834943/profiler-output/profiler-reports/GPUMemoryIncrease.json'},\n",
       "   {'Key': 'sagemaker-scikit-learn-2021-09-05-09-42-23-026/rule-output/ProfilerReport-1630834943/profiler-output/profiler-reports/MaxInitializationTime.json'},\n",
       "   {'Key': 'sagemaker-scikit-learn-2021-09-05-10-32-46-322/output/model.tar.gz'},\n",
       "   {'Key': 'sagemaker-scikit-learn-2021-09-05-11-27-56-545/profiler-output/system/incremental/2021090511/1630841460.algo-1.json'},\n",
       "   {'Key': 'counties/pca-2021-03-21-00-52-25-560/rule-output/ProfilerReport-1616287945/profiler-output/profiler-reports/OverallSystemUsage.json'},\n",
       "   {'Key': 'sagemaker-scikit-learn-2021-09-05-11-35-50-849/rule-output/ProfilerReport-1630841750/profiler-output/profiler-reports/Dataloader.json'},\n",
       "   {'Key': 'sagemaker-scikit-learn-2021-09-05-11-18-23-236/rule-output/ProfilerReport-1630840703/profiler-output/profiler-reports/StepOutlier.json'},\n",
       "   {'Key': 'sagemaker-scikit-learn-2021-09-05-11-27-56-545/rule-output/ProfilerReport-1630841276/profiler-output/profiler-reports/OverallFrameworkMetrics.json'},\n",
       "   {'Key': 'counties/pca-2021-03-21-00-55-39-863/output/model.tar.gz'},\n",
       "   {'Key': 'sagemaker-scikit-learn-2021-09-05-11-03-53-640/profiler-output/system/incremental/2021090511/1630840020.algo-1.json'},\n",
       "   {'Key': 'counties/pca-2021-03-21-00-55-39-863/rule-output/ProfilerReport-1616288139/profiler-output/profiler-reports/IOBottleneck.json'},\n",
       "   {'Key': 'sagemaker-scikit-learn-2021-09-05-11-03-53-640/profiler-output/system/training_job_end.ts'},\n",
       "   {'Key': 'counties/pca-2021-03-21-00-34-04-205/rule-output/ProfilerReport-1616286844/profiler-output/profiler-reports/CPUBottleneck.json'},\n",
       "   {'Key': 'sagemaker-scikit-learn-2021-09-05-11-35-50-849/rule-output/ProfilerReport-1630841750/profiler-output/profiler-reports/OverallSystemUsage.json'},\n",
       "   {'Key': 'counties/kmeans-2021-03-21-01-19-21-732/rule-output/ProfilerReport-1616289561/profiler-output/profiler-report.html'},\n",
       "   {'Key': 'sagemaker-scikit-learn-2021-09-05-11-54-07-966/rule-output/ProfilerReport-1630842847/profiler-output/profiler-report.html'},\n",
       "   {'Key': 'counties/kmeans-2021-03-21-01-19-21-732/rule-output/ProfilerReport-1616289561/profiler-output/profiler-reports/OverallSystemUsage.json'},\n",
       "   {'Key': 'counties/pca-2021-03-21-00-55-39-863/profiler-output/system/training_job_end.ts'},\n",
       "   {'Key': 'counties/kmeans-2021-03-21-01-19-21-732/rule-output/ProfilerReport-1616289561/profiler-output/profiler-reports/CPUBottleneck.json'},\n",
       "   {'Key': 'sagemaker-scikit-learn-2021-09-05-10-55-33-753/rule-output/ProfilerReport-1630839333/profiler-output/profiler-reports/BatchSize.json'},\n",
       "   {'Key': 'sagemaker-scikit-learn-2021-09-05-10-55-33-753/rule-output/ProfilerReport-1630839333/profiler-output/profiler-reports/IOBottleneck.json'},\n",
       "   {'Key': 'sagemaker-scikit-learn-2021-09-05-10-55-33-753/rule-output/ProfilerReport-1630839333/profiler-output/profiler-reports/OverallSystemUsage.json'},\n",
       "   {'Key': 'sagemaker-scikit-learn-2021-09-05-11-27-56-545/source/sourcedir.tar.gz'},\n",
       "   {'Key': 'counties/pca-2021-03-21-00-34-04-205/profiler-output/framework/training_job_end.ts'},\n",
       "   {'Key': 'sagemaker-scikit-learn-2021-09-05-11-03-53-640/rule-output/ProfilerReport-1630839833/profiler-output/profiler-reports/StepOutlier.json'},\n",
       "   {'Key': 'sagemaker-scikit-learn-2021-09-05-11-18-23-236/rule-output/ProfilerReport-1630840703/profiler-output/profiler-reports/OverallSystemUsage.json'},\n",
       "   {'Key': 'sagemaker-scikit-learn-2021-09-05-10-55-33-753/rule-output/ProfilerReport-1630839333/profiler-output/profiler-reports/OverallFrameworkMetrics.json'},\n",
       "   {'Key': 'sagemaker-scikit-learn-2021-09-05-10-32-46-322/rule-output/ProfilerReport-1630837966/profiler-output/profiler-reports/LowGPUUtilization.json'},\n",
       "   {'Key': 'counties/pca-2021-03-21-00-55-39-863/rule-output/ProfilerReport-1616288139/profiler-output/profiler-reports/Dataloader.json'},\n",
       "   {'Key': 'sagemaker-scikit-learn-2021-09-05-11-03-53-640/rule-output/ProfilerReport-1630839833/profiler-output/profiler-reports/LowGPUUtilization.json'},\n",
       "   {'Key': 'counties/kmeans-2021-03-21-01-19-21-732/profiler-output/system/training_job_end.ts'},\n",
       "   {'Key': 'counties/kmeans-2021-03-21-01-19-21-732/rule-output/ProfilerReport-1616289561/profiler-output/profiler-reports/GPUMemoryIncrease.json'},\n",
       "   {'Key': 'sagemaker-scikit-learn-2021-09-05-11-18-23-236/rule-output/ProfilerReport-1630840703/profiler-output/profiler-reports/BatchSize.json'},\n",
       "   {'Key': 'counties/pca-2021-03-21-00-55-39-863/rule-output/ProfilerReport-1616288139/profiler-output/profiler-reports/OverallSystemUsage.json'},\n",
       "   {'Key': 'sagemaker-scikit-learn-2021-09-05-10-32-46-322/source/sourcedir.tar.gz'},\n",
       "   {'Key': 'sagemaker-scikit-learn-2021-09-05-11-03-53-640/rule-output/ProfilerReport-1630839833/profiler-output/profiler-reports/GPUMemoryIncrease.json'},\n",
       "   {'Key': 'counties/pca-2021-03-21-00-55-39-863/rule-output/ProfilerReport-1616288139/profiler-output/profiler-reports/LoadBalancing.json'},\n",
       "   {'Key': 'sagemaker-scikit-learn-2021-09-05-11-35-50-849/output/model.tar.gz'},\n",
       "   {'Key': 'sagemaker-scikit-learn-2021-09-05-10-32-46-322/profiler-output/system/incremental/2021090510/1630838160.algo-1.json'},\n",
       "   {'Key': 'sagemaker-record-sets/PCA-2021-03-21-00-52-25-255/.amazon.manifest'},\n",
       "   {'Key': 'sagemaker-scikit-learn-2021-09-05-10-32-46-322/profiler-output/system/incremental/2021090510/1630838220.algo-1.json'},\n",
       "   {'Key': 'sagemaker-scikit-learn-2021-09-05-11-35-50-849/rule-output/ProfilerReport-1630841750/profiler-output/profiler-reports/CPUBottleneck.json'},\n",
       "   {'Key': 'counties/kmeans-2021-03-21-01-19-21-732/output/model.tar.gz'},\n",
       "   {'Key': 'counties/kmeans-2021-03-21-01-19-21-732/rule-output/ProfilerReport-1616289561/profiler-output/profiler-reports/LowGPUUtilization.json'},\n",
       "   {'Key': 'sagemaker-scikit-learn-2021-09-05-11-54-07-966/debug-output/training_job_end.ts'},\n",
       "   {'Key': 'sagemaker-scikit-learn-2021-09-05-09-42-23-026/rule-output/ProfilerReport-1630834943/profiler-output/profiler-reports/OverallSystemUsage.json'},\n",
       "   {'Key': 'counties/pca-2021-03-21-00-52-25-560/profiler-output/system/training_job_end.ts'},\n",
       "   {'Key': 'counties/pca-2021-03-21-00-34-04-205/rule-output/ProfilerReport-1616286844/profiler-output/profiler-reports/MaxInitializationTime.json'},\n",
       "   {'Key': 'counties/pca-2021-03-21-00-52-25-560/profiler-output/framework/training_job_end.ts'},\n",
       "   {'Key': 'sagemaker-scikit-learn-2021-09-05-10-55-33-753/rule-output/ProfilerReport-1630839333/profiler-output/profiler-reports/LoadBalancing.json'},\n",
       "   {'Key': 'sagemaker-scikit-learn-2021-09-05-11-35-50-849/rule-output/ProfilerReport-1630841750/profiler-output/profiler-reports/GPUMemoryIncrease.json'}]}]"
      ]
     },
     "execution_count": 73,
     "metadata": {},
     "output_type": "execute_result"
    }
   ],
   "source": [
    "# deleting bucket, uncomment lines below\n",
    "\n",
    "bucket_to_delete = boto3.resource('s3').Bucket(bucket)\n",
    "bucket_to_delete.objects.all().delete()"
   ]
  },
  {
   "cell_type": "markdown",
   "metadata": {},
   "source": [
    "### Deleting all your models and instances\n",
    "\n",
    "When you are _completely_ done with this project and do **not** ever want to revisit this notebook, you can choose to delete all of your SageMaker notebook instances and models by following [these instructions](https://docs.aws.amazon.com/sagemaker/latest/dg/ex1-cleanup.html). Before you delete this notebook instance, I recommend at least downloading a copy and saving it, locally."
   ]
  },
  {
   "cell_type": "markdown",
   "metadata": {},
   "source": [
    "---\n",
    "## Further Directions\n",
    "\n",
    "There are many ways to improve or add on to this project to expand your learning or make this more of a unique project for you. A few ideas are listed below:\n",
    "* Train a classifier to predict the *category* (1-3) of plagiarism and not just plagiarized (1) or not (0).\n",
    "* Utilize a different and larger dataset to see if this model can be extended to other types of plagiarism.\n",
    "* Use language or character-level analysis to find different (and more) similarity features.\n",
    "* Write a complete pipeline function that accepts a source text and submitted text file, and classifies the submitted text as plagiarized or not.\n",
    "* Use API Gateway and a lambda function to deploy your model to a web application.\n",
    "\n",
    "These are all just options for extending your work. If you've completed all the exercises in this notebook, you've completed a real-world application, and can proceed to submit your project. Great job!"
   ]
  }
 ],
 "metadata": {
  "kernelspec": {
   "display_name": "conda_pytorch_p36",
   "language": "python",
   "name": "conda_pytorch_p36"
  },
  "language_info": {
   "codemirror_mode": {
    "name": "ipython",
    "version": 3
   },
   "file_extension": ".py",
   "mimetype": "text/x-python",
   "name": "python",
   "nbconvert_exporter": "python",
   "pygments_lexer": "ipython3",
   "version": "3.6.13"
  }
 },
 "nbformat": 4,
 "nbformat_minor": 2
}
